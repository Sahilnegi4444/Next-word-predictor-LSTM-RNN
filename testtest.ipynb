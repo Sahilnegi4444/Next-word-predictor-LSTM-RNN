{
 "cells": [
  {
   "cell_type": "code",
   "execution_count": 2,
   "id": "5cddec76",
   "metadata": {},
   "outputs": [
    {
     "name": "stdout",
     "output_type": "stream",
     "text": [
      "TF version: 2.10.0\n",
      "Built with CUDA: True\n",
      "GPUs: [PhysicalDevice(name='/physical_device:GPU:0', device_type='GPU')]\n"
     ]
    }
   ],
   "source": [
    "import tensorflow as tf\n",
    "print(\"TF version:\", tf.__version__)\n",
    "print(\"Built with CUDA:\", tf.test.is_built_with_cuda())\n",
    "print(\"GPUs:\", tf.config.list_physical_devices(\"GPU\"))\n"
   ]
  },
  {
   "cell_type": "code",
   "execution_count": 3,
   "id": "96052c5a",
   "metadata": {},
   "outputs": [
    {
     "name": "stdout",
     "output_type": "stream",
     "text": [
      "Current working directory: c:\\Projects\\Next_word_prediction\n",
      "Model file exists: True\n",
      "Tokenizer file exists: True\n",
      "\n",
      "Files in current directory:\n",
      "  app.py\n",
      "  experiments.ipynb\n",
      "  hamlet.txt\n",
      "  next_word_lstm.h5\n",
      "  requirements.txt\n",
      "  testtest.ipynb\n",
      "  tokenizer.pickle\n",
      "  venvcuda\n"
     ]
    }
   ],
   "source": [
    "import os\n",
    "\n",
    "# Check if files exist\n",
    "model_path = 'next_word_lstm.h5'\n",
    "tokenizer_path = 'tokenizer.pickle'\n",
    "\n",
    "print(f\"Current working directory: {os.getcwd()}\")\n",
    "print(f\"Model file exists: {os.path.exists(model_path)}\")\n",
    "print(f\"Tokenizer file exists: {os.path.exists(tokenizer_path)}\")\n",
    "\n",
    "# List all files in current directory\n",
    "print(\"\\nFiles in current directory:\")\n",
    "for file in os.listdir('.'):\n",
    "    print(f\"  {file}\")"
   ]
  },
  {
   "cell_type": "code",
   "execution_count": null,
   "id": "4aee9177",
   "metadata": {},
   "outputs": [],
   "source": []
  }
 ],
 "metadata": {
  "kernelspec": {
   "display_name": "Python 3",
   "language": "python",
   "name": "python3"
  },
  "language_info": {
   "codemirror_mode": {
    "name": "ipython",
    "version": 3
   },
   "file_extension": ".py",
   "mimetype": "text/x-python",
   "name": "python",
   "nbconvert_exporter": "python",
   "pygments_lexer": "ipython3",
   "version": "3.10.18"
  }
 },
 "nbformat": 4,
 "nbformat_minor": 5
}
